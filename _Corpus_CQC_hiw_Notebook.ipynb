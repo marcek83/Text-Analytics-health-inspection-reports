{
 "cells": [
  {
   "cell_type": "markdown",
   "metadata": {},
   "source": [
    "This document joins corpus data downloaded from Sketch Engine (www.sketchengine.eu) with the information data about each hospital and report that has been downloaded from CQC (www.cqc.org.uk) and formatted. The end document that is exported will be used for modelling"
   ]
  },
  {
   "cell_type": "markdown",
   "metadata": {},
   "source": [
    "## Loading Libraries"
   ]
  },
  {
   "cell_type": "code",
   "execution_count": 1,
   "metadata": {},
   "outputs": [],
   "source": [
    "import pandas as pd\n",
    "import numpy as np"
   ]
  },
  {
   "cell_type": "markdown",
   "metadata": {},
   "source": [
    "## Corpus Information File"
   ]
  },
  {
   "cell_type": "code",
   "execution_count": 3,
   "metadata": {},
   "outputs": [
    {
     "name": "stdout",
     "output_type": "stream",
     "text": [
      "['providerId' 'locationId' 'organisationType' 'type' 'name' 'region'\n",
      " 'postalCode' 'onspdLatitude' 'onspdLongitude' 'rating_overall'\n",
      " 'reportDate' 'rating_caring' 'rating_effective' 'rating_responsive'\n",
      " 'rating_safe' 'rating_wellled' 'URL' 'Location_type' 'Location_subtype'\n",
      " 'Report_URL' 'Corpus_duplication_check']\n"
     ]
    },
    {
     "data": {
      "text/html": [
       "<div>\n",
       "<style scoped>\n",
       "    .dataframe tbody tr th:only-of-type {\n",
       "        vertical-align: middle;\n",
       "    }\n",
       "\n",
       "    .dataframe tbody tr th {\n",
       "        vertical-align: top;\n",
       "    }\n",
       "\n",
       "    .dataframe thead th {\n",
       "        text-align: right;\n",
       "    }\n",
       "</style>\n",
       "<table border=\"1\" class=\"dataframe\">\n",
       "  <thead>\n",
       "    <tr style=\"text-align: right;\">\n",
       "      <th></th>\n",
       "      <th>providerId</th>\n",
       "      <th>locationId</th>\n",
       "      <th>organisationType</th>\n",
       "      <th>type</th>\n",
       "      <th>name</th>\n",
       "      <th>region</th>\n",
       "      <th>postalCode</th>\n",
       "      <th>onspdLatitude</th>\n",
       "      <th>onspdLongitude</th>\n",
       "      <th>rating_overall</th>\n",
       "      <th>...</th>\n",
       "      <th>rating_caring</th>\n",
       "      <th>rating_effective</th>\n",
       "      <th>rating_responsive</th>\n",
       "      <th>rating_safe</th>\n",
       "      <th>rating_wellled</th>\n",
       "      <th>URL</th>\n",
       "      <th>Location_type</th>\n",
       "      <th>Location_subtype</th>\n",
       "      <th>Report_URL</th>\n",
       "      <th>Corpus_duplication_check</th>\n",
       "    </tr>\n",
       "  </thead>\n",
       "  <tbody>\n",
       "    <tr>\n",
       "      <td>1</td>\n",
       "      <td>1-101675619</td>\n",
       "      <td>9999</td>\n",
       "      <td>Provider</td>\n",
       "      <td>Independent Healthcare Org</td>\n",
       "      <td>Healthcare at Home Ltd</td>\n",
       "      <td>West Midlands</td>\n",
       "      <td>DE14 1SZ</td>\n",
       "      <td>52.806769</td>\n",
       "      <td>-1.625640</td>\n",
       "      <td>Good</td>\n",
       "      <td>...</td>\n",
       "      <td>Good</td>\n",
       "      <td>Good</td>\n",
       "      <td>Good</td>\n",
       "      <td>Good</td>\n",
       "      <td>Good</td>\n",
       "      <td>http://www.cqc.org.uk/provider/1-101675619</td>\n",
       "      <td>Independent Healthcare Org</td>\n",
       "      <td>Community health - NHS &amp; Independent</td>\n",
       "      <td>https://www.cqc.org.uk/sites/default/files/new...</td>\n",
       "      <td>included</td>\n",
       "    </tr>\n",
       "    <tr>\n",
       "      <td>2</td>\n",
       "      <td>1-102643363</td>\n",
       "      <td>9999</td>\n",
       "      <td>Provider</td>\n",
       "      <td>Independent Healthcare Org</td>\n",
       "      <td>St Andrew's Healthcare</td>\n",
       "      <td>East Midlands</td>\n",
       "      <td>NN1 5DG</td>\n",
       "      <td>52.238142</td>\n",
       "      <td>-0.873701</td>\n",
       "      <td>Requires improvement</td>\n",
       "      <td>...</td>\n",
       "      <td>Good</td>\n",
       "      <td>Good</td>\n",
       "      <td>Good</td>\n",
       "      <td>Requires improvement</td>\n",
       "      <td>Requires improvement</td>\n",
       "      <td>http://www.cqc.org.uk/provider/1-102643363</td>\n",
       "      <td>Independent Healthcare Org</td>\n",
       "      <td>Mental health - community &amp; hospital - indepen...</td>\n",
       "      <td>https://www.cqc.org.uk/sites/default/files/new...</td>\n",
       "      <td>included</td>\n",
       "    </tr>\n",
       "  </tbody>\n",
       "</table>\n",
       "<p>2 rows × 21 columns</p>\n",
       "</div>"
      ],
      "text/plain": [
       "    providerId locationId organisationType                        type  \\\n",
       "1  1-101675619       9999         Provider  Independent Healthcare Org   \n",
       "2  1-102643363       9999         Provider  Independent Healthcare Org   \n",
       "\n",
       "                     name         region postalCode  onspdLatitude  \\\n",
       "1  Healthcare at Home Ltd  West Midlands   DE14 1SZ      52.806769   \n",
       "2  St Andrew's Healthcare  East Midlands    NN1 5DG      52.238142   \n",
       "\n",
       "   onspdLongitude        rating_overall  ... rating_caring rating_effective  \\\n",
       "1       -1.625640                  Good  ...          Good             Good   \n",
       "2       -0.873701  Requires improvement  ...          Good             Good   \n",
       "\n",
       "  rating_responsive           rating_safe        rating_wellled  \\\n",
       "1              Good                  Good                  Good   \n",
       "2              Good  Requires improvement  Requires improvement   \n",
       "\n",
       "                                          URL               Location_type  \\\n",
       "1  http://www.cqc.org.uk/provider/1-101675619  Independent Healthcare Org   \n",
       "2  http://www.cqc.org.uk/provider/1-102643363  Independent Healthcare Org   \n",
       "\n",
       "                                    Location_subtype  \\\n",
       "1               Community health - NHS & Independent   \n",
       "2  Mental health - community & hospital - indepen...   \n",
       "\n",
       "                                          Report_URL Corpus_duplication_check  \n",
       "1  https://www.cqc.org.uk/sites/default/files/new...                 included  \n",
       "2  https://www.cqc.org.uk/sites/default/files/new...                 included  \n",
       "\n",
       "[2 rows x 21 columns]"
      ]
     },
     "execution_count": 3,
     "metadata": {},
     "output_type": "execute_result"
    }
   ],
   "source": [
    "# loading the file with information about CQC corpus \n",
    "\n",
    "file_info = pd.read_csv(\"_CQC_Corpus_Info.csv\", index_col = 0)\n",
    "\n",
    "print(file_info.columns.values)\n",
    "\n",
    "file_info[:2]"
   ]
  },
  {
   "cell_type": "code",
   "execution_count": 4,
   "metadata": {},
   "outputs": [
    {
     "data": {
      "text/plain": [
       "(1123, 21)"
      ]
     },
     "execution_count": 4,
     "metadata": {},
     "output_type": "execute_result"
    }
   ],
   "source": [
    "# remove all rows where URL is not available\n",
    "file_info = file_info[~file_info['Report_URL'].isna()]\n",
    "\n",
    "file_info.shape"
   ]
  },
  {
   "cell_type": "code",
   "execution_count": 5,
   "metadata": {},
   "outputs": [
    {
     "data": {
      "text/plain": [
       "(1123, 22)"
      ]
     },
     "execution_count": 5,
     "metadata": {},
     "output_type": "execute_result"
    }
   ],
   "source": [
    "# creating the file name from URL\n",
    "def find_partURL(column):\n",
    "    test_str = column\n",
    "    return test_str[test_str.rfind('/')+1:test_str.find('.pdf')]\n",
    "\n",
    "file_info['filename'] = file_info['Report_URL'].apply(find_partURL)\n",
    "\n",
    "file_info[:5]\n",
    "file_info.shape"
   ]
  },
  {
   "cell_type": "markdown",
   "metadata": {},
   "source": [
    "## Corpus File"
   ]
  },
  {
   "cell_type": "code",
   "execution_count": 7,
   "metadata": {},
   "outputs": [],
   "source": [
    "# loading corpus for CQC text\n",
    "file = '_CQC_Text.txt'\n",
    "# cqc_documents_v2.txt\n",
    "\n",
    "file = open(file, encoding=\"utf8\")\n",
    "file\n",
    "\n",
    "lines = [line.rstrip('\\n') for line in open('_CQC_Text.txt', encoding = \"utf8\")]\n",
    "\n",
    "doc_index = []\n",
    "\n",
    "for counter, value in enumerate(lines):\n",
    "    if \"<doc url=\" in value:\n",
    "        doc_index.append( [counter, value])"
   ]
  },
  {
   "cell_type": "code",
   "execution_count": 10,
   "metadata": {},
   "outputs": [
    {
     "name": "stdout",
     "output_type": "stream",
     "text": [
      "Number of full text empty: 0\n",
      "Number of doc details empty: 0\n"
     ]
    },
    {
     "data": {
      "text/html": [
       "<div>\n",
       "<style scoped>\n",
       "    .dataframe tbody tr th:only-of-type {\n",
       "        vertical-align: middle;\n",
       "    }\n",
       "\n",
       "    .dataframe tbody tr th {\n",
       "        vertical-align: top;\n",
       "    }\n",
       "\n",
       "    .dataframe thead th {\n",
       "        text-align: right;\n",
       "    }\n",
       "</style>\n",
       "<table border=\"1\" class=\"dataframe\">\n",
       "  <thead>\n",
       "    <tr style=\"text-align: right;\">\n",
       "      <th></th>\n",
       "      <th>doc_index_first_line</th>\n",
       "      <th>doc_details</th>\n",
       "      <th>doc_index_last_line</th>\n",
       "      <th>full_text</th>\n",
       "    </tr>\n",
       "  </thead>\n",
       "  <tbody>\n",
       "    <tr>\n",
       "      <td>0</td>\n",
       "      <td>0</td>\n",
       "      <td>&lt;doc url=\"https://www.cqc.org.uk/sites/default...</td>\n",
       "      <td>1200</td>\n",
       "      <td>&lt;doc url=\"https://www.cqc.org.uk/sites/default...</td>\n",
       "    </tr>\n",
       "    <tr>\n",
       "      <td>1</td>\n",
       "      <td>1200</td>\n",
       "      <td>&lt;doc url=\"https://www.cqc.org.uk/sites/default...</td>\n",
       "      <td>2270</td>\n",
       "      <td>&lt;doc url=\"https://www.cqc.org.uk/sites/default...</td>\n",
       "    </tr>\n",
       "  </tbody>\n",
       "</table>\n",
       "</div>"
      ],
      "text/plain": [
       "   doc_index_first_line                                        doc_details  \\\n",
       "0                     0  <doc url=\"https://www.cqc.org.uk/sites/default...   \n",
       "1                  1200  <doc url=\"https://www.cqc.org.uk/sites/default...   \n",
       "\n",
       "   doc_index_last_line                                          full_text  \n",
       "0                 1200  <doc url=\"https://www.cqc.org.uk/sites/default...  \n",
       "1                 2270  <doc url=\"https://www.cqc.org.uk/sites/default...  "
      ]
     },
     "execution_count": 10,
     "metadata": {},
     "output_type": "execute_result"
    }
   ],
   "source": [
    "#  creating the dataframe for iteration for the tex for one doc at a time\n",
    "df_1 = pd.DataFrame(doc_index, columns = (\"doc_index_first_line\", \"doc_details\"))\n",
    "# each text starts with the doc_index_first_line + the index of the last element in the \"lines\" list\n",
    "df_1[\"doc_index_last_line\"] = list(np.array(df_1.iloc[:,0]))[1:]+[(len(lines))]\n",
    "\n",
    "list_fullStr = []\n",
    "\n",
    "# loop for creating the record for each document in the dataset\n",
    "for i in np.arange(len(doc_index)):\n",
    "    one_document = (lines[df_1.iloc[i,0]: df_1.iloc[i,2]])\n",
    "    fullStr = ' '.join(one_document)\n",
    "    list_fullStr.append(fullStr)\n",
    "    \n",
    "\n",
    "df_1[\"full_text\"] = list_fullStr\n",
    "\n",
    "print('Number of full text empty:' ,sum(df_1['full_text'].isna()))\n",
    "print('Number of doc details empty:' ,sum(df_1['doc_details'].isna()))\n",
    "\n",
    "df_1[:2]"
   ]
  },
  {
   "cell_type": "code",
   "execution_count": 11,
   "metadata": {},
   "outputs": [],
   "source": [
    "# creating the filename for the join to the data info\n",
    "def find_filename(column):\n",
    "    test_str = column\n",
    "    return test_str[test_str.find('filename=\"')+len('filename=\"'):test_str.find('.pdf\">')]\n",
    "df_1['filename'] = df_1['doc_details'].apply(find_filename)"
   ]
  },
  {
   "cell_type": "code",
   "execution_count": 12,
   "metadata": {},
   "outputs": [
    {
     "data": {
      "text/html": [
       "<div>\n",
       "<style scoped>\n",
       "    .dataframe tbody tr th:only-of-type {\n",
       "        vertical-align: middle;\n",
       "    }\n",
       "\n",
       "    .dataframe tbody tr th {\n",
       "        vertical-align: top;\n",
       "    }\n",
       "\n",
       "    .dataframe thead th {\n",
       "        text-align: right;\n",
       "    }\n",
       "</style>\n",
       "<table border=\"1\" class=\"dataframe\">\n",
       "  <thead>\n",
       "    <tr style=\"text-align: right;\">\n",
       "      <th></th>\n",
       "      <th>doc_index_first_line</th>\n",
       "      <th>doc_details</th>\n",
       "      <th>doc_index_last_line</th>\n",
       "      <th>full_text</th>\n",
       "      <th>filename</th>\n",
       "      <th>providerId</th>\n",
       "      <th>locationId</th>\n",
       "      <th>organisationType</th>\n",
       "      <th>type</th>\n",
       "      <th>name</th>\n",
       "      <th>...</th>\n",
       "      <th>rating_caring</th>\n",
       "      <th>rating_effective</th>\n",
       "      <th>rating_responsive</th>\n",
       "      <th>rating_safe</th>\n",
       "      <th>rating_wellled</th>\n",
       "      <th>URL</th>\n",
       "      <th>Location_type</th>\n",
       "      <th>Location_subtype</th>\n",
       "      <th>Report_URL</th>\n",
       "      <th>Corpus_duplication_check</th>\n",
       "    </tr>\n",
       "  </thead>\n",
       "  <tbody>\n",
       "    <tr>\n",
       "      <td>621</td>\n",
       "      <td>1871839</td>\n",
       "      <td>&lt;doc url=\"https://www.cqc.org.uk/sites/default...</td>\n",
       "      <td>1873961</td>\n",
       "      <td>&lt;doc url=\"https://www.cqc.org.uk/sites/default...</td>\n",
       "      <td>AAAJ3228</td>\n",
       "      <td>1-101727990</td>\n",
       "      <td>1-3811878726</td>\n",
       "      <td>Location</td>\n",
       "      <td>Independent Healthcare Org</td>\n",
       "      <td>Spamedica Limited</td>\n",
       "      <td>...</td>\n",
       "      <td>Good</td>\n",
       "      <td>Outstanding</td>\n",
       "      <td>Good</td>\n",
       "      <td>Good</td>\n",
       "      <td>Good</td>\n",
       "      <td>http://www.cqc.org.uk/location/1-3811878726</td>\n",
       "      <td>Independent Healthcare Org</td>\n",
       "      <td>Acute hospital - Independent non-specialist</td>\n",
       "      <td>https://www.cqc.org.uk/sites/default/files/new...</td>\n",
       "      <td>included</td>\n",
       "    </tr>\n",
       "  </tbody>\n",
       "</table>\n",
       "<p>1 rows × 26 columns</p>\n",
       "</div>"
      ],
      "text/plain": [
       "     doc_index_first_line                                        doc_details  \\\n",
       "621               1871839  <doc url=\"https://www.cqc.org.uk/sites/default...   \n",
       "\n",
       "     doc_index_last_line                                          full_text  \\\n",
       "621              1873961  <doc url=\"https://www.cqc.org.uk/sites/default...   \n",
       "\n",
       "     filename   providerId    locationId organisationType  \\\n",
       "621  AAAJ3228  1-101727990  1-3811878726         Location   \n",
       "\n",
       "                           type               name  ... rating_caring  \\\n",
       "621  Independent Healthcare Org  Spamedica Limited  ...          Good   \n",
       "\n",
       "    rating_effective  rating_responsive  rating_safe rating_wellled  \\\n",
       "621      Outstanding               Good         Good           Good   \n",
       "\n",
       "                                             URL               Location_type  \\\n",
       "621  http://www.cqc.org.uk/location/1-3811878726  Independent Healthcare Org   \n",
       "\n",
       "                                Location_subtype  \\\n",
       "621  Acute hospital - Independent non-specialist   \n",
       "\n",
       "                                            Report_URL  \\\n",
       "621  https://www.cqc.org.uk/sites/default/files/new...   \n",
       "\n",
       "    Corpus_duplication_check  \n",
       "621                 included  \n",
       "\n",
       "[1 rows x 26 columns]"
      ]
     },
     "execution_count": 12,
     "metadata": {},
     "output_type": "execute_result"
    }
   ],
   "source": [
    "# creating one file with the full text and all text metadata\n",
    "df = df_1.merge(file_info)\n",
    "\n",
    "# example\n",
    "df.loc[df.filename == 'AAAJ3228']"
   ]
  },
  {
   "cell_type": "code",
   "execution_count": null,
   "metadata": {},
   "outputs": [],
   "source": [
    "# export\n",
    "\n",
    "# df.to_csv('CQC_documents_df_V2.csv')"
   ]
  },
  {
   "cell_type": "code",
   "execution_count": null,
   "metadata": {},
   "outputs": [],
   "source": [
    "# the same process was applied to the Welsh Corpus and Welsh details document\n",
    "# attachments:\n",
    "# Corpus CQC _CQC_Text\n",
    "# Corpus Welsh _hiw_Text\n",
    "# details document CQC \"_CQC_Corpus_Info.csv\""
   ]
  }
 ],
 "metadata": {
  "kernelspec": {
   "display_name": "Python 3",
   "language": "python",
   "name": "python3"
  },
  "language_info": {
   "codemirror_mode": {
    "name": "ipython",
    "version": 3
   },
   "file_extension": ".py",
   "mimetype": "text/x-python",
   "name": "python",
   "nbconvert_exporter": "python",
   "pygments_lexer": "ipython3",
   "version": "3.7.4"
  }
 },
 "nbformat": 4,
 "nbformat_minor": 2
}
